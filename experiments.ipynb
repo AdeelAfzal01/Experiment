{
 "cells": [
  {
   "cell_type": "code",
   "execution_count": 11,
   "metadata": {},
   "outputs": [],
   "source": [
    "from langchain_community.tools import DuckDuckGoSearchResults\n",
    "from sentence_transformers import SentenceTransformer, util\n",
    "from transformers import pipeline\n",
    "import torch\n",
    "from dotenv import load_dotenv\n",
    "import os\n",
    "from langchain.chat_models import ChatOpenAI\n",
    "from langchain_core.prompts import PromptTemplate\n",
    "\n",
    "\n",
    "import openai"
   ]
  },
  {
   "cell_type": "code",
   "execution_count": 12,
   "metadata": {},
   "outputs": [],
   "source": [
    "load_dotenv(\".env\")\n",
    "OPENAI_API_KEY = os.getenv(\"OPENAI_API_key\")\n",
    "openai.api_key = OPENAI_API_KEY"
   ]
  },
  {
   "cell_type": "code",
   "execution_count": 31,
   "metadata": {},
   "outputs": [],
   "source": [
    "def search_web(question, num_results=4):\n",
    "    search = DuckDuckGoSearchResults(output_format=\"list\")\n",
    "    results = search.invoke(question)\n",
    "    return results[:num_results]\n",
    "\n",
    "def format_document(documents):\n",
    "    docs_list = []\n",
    "    for doc in documents:\n",
    "        try:\n",
    "            docs_list.append(f\"{doc['snippet']}\")\n",
    "        except:\n",
    "            pass\n",
    "    return docs_list\n",
    "\n",
    "def rank_documents(question, documents, model_name='thenlper/gte-small'):\n",
    "    model = SentenceTransformer(model_name)\n",
    "    question_embedding = model.encode(question)\n",
    "    doc_embeddings = model.encode(documents)\n",
    "\n",
    "    scores = [util.cos_sim(question_embedding, doc_embedding).item() for doc_embedding in doc_embeddings]\n",
    "    ranked_docs = sorted(zip(documents, scores), key=lambda x: x[1], reverse=True)\n",
    "\n",
    "    return ranked_docs\n",
    "\n",
    "def compile_context(ranked_docs, top_n=2):\n",
    "    context = \"\"\n",
    "    if isinstance(ranked_docs, list):\n",
    "        context = \"\\n\".join([doc for doc, score in ranked_docs[:top_n]])\n",
    "    return context\n",
    "\n",
    "def format_prompt():\n",
    "    prompt = PromptTemplate.from_template(\"\"\"\n",
    "        Instructions : You are an intelligent bot. Answer the question based on the provided context. If the context does not include enough information, respond with \"Insufficient information.\n",
    "        Question : {question}\n",
    "        Context : {context}\n",
    "        \"\"\")\n",
    "    \n",
    "    return prompt\n",
    "    \n"
   ]
  },
  {
   "cell_type": "code",
   "execution_count": 19,
   "metadata": {},
   "outputs": [],
   "source": [
    "# def RagPipeline(question):\n",
    "#     if question:\n",
    "#         # Searching Web\n",
    "#         web_docs = search_web(question)\n",
    "\n",
    "#         # Formating documents by extracting the snippets\n",
    "#         formatted_docs = format_document(web_docs)\n",
    "\n",
    "#         # Ranking the documents\n",
    "#         rank_docs = rank_documents(question, formatted_docs)\n",
    "\n",
    "#         # Select Top 2 documents and compile context\n",
    "#         context = compile_context(rank_docs, 2)\n",
    "\n",
    "#         # Create Prompt\n",
    "#         prompt = format_prompt()\n",
    "\n",
    "#         # LLM initialization\n",
    "#         llm = ChatOpenAI(model_name=\"gpt-4o-mini\", openai_api_key=OPENAI_API_KEY, temperature=0.1, max_tokens=1500, timeout=30, streaming=True)\n",
    "\n",
    "#         # Chain initialization\n",
    "#         chain = prompt | llm\n",
    "\n",
    "#         # Chain invoking\n",
    "#         response = chain.invoke({\"question\" : question, \"context\" : context})\n",
    "\n",
    "#         return {'Question' : question,\n",
    "#                 'Web Search' : web_docs,\n",
    "#                 'Ranked Docs' : rank_docs,\n",
    "#                 'Prompt' : prompt,\n",
    "#                 'Answer' : response.content\n",
    "#                 }"
   ]
  },
  {
   "cell_type": "code",
   "execution_count": null,
   "metadata": {},
   "outputs": [],
   "source": [
    "import time\n",
    "\n",
    "def RagPipeline(question, top_n=2, sleep_time=15):\n",
    "    if question:\n",
    "        try:\n",
    "            # Searching Web\n",
    "            web_docs = search_web(question)\n",
    "            time.sleep(sleep_time)  # Rate limit\n",
    "\n",
    "            if not web_docs:\n",
    "                return {'Question': question, 'Error': 'No results retrieved from the web.'}\n",
    "\n",
    "            # Formating documents by extracting the snippets\n",
    "            formatted_docs = format_document(web_docs)\n",
    "\n",
    "            # Ranking the documents\n",
    "            ranked_docs = rank_documents(question, formatted_docs)\n",
    "\n",
    "            # Select Top-N documents and compile context\n",
    "            context = compile_context(ranked_docs, top_n)\n",
    "\n",
    "            # Create Prompt\n",
    "            prompt = format_prompt()\n",
    "\n",
    "            # LLM initialization\n",
    "            llm = ChatOpenAI(model_name=\"gpt-4o-mini\", openai_api_key=OPENAI_API_KEY, temperature=0.1, max_tokens=1500, timeout=30, streaming=True)\n",
    "\n",
    "            # Chain initialization\n",
    "            chain = prompt | llm\n",
    "\n",
    "            # Chain invoking\n",
    "            response = chain.invoke({\"question\": question, \"context\": context})\n",
    "\n",
    "            return {\n",
    "                'Question': question,\n",
    "                'Web Search': web_docs,\n",
    "                'Ranked Docs': [{'Document': doc, 'Score': score} for doc, score in ranked_docs],\n",
    "                'Prompt': prompt.input_variables,\n",
    "                'Answer': response.content\n",
    "            }\n",
    "        except Exception as e:\n",
    "            return {'Question': question, 'Error': str(e)}\n",
    "\n"
   ]
  },
  {
   "cell_type": "code",
   "execution_count": 28,
   "metadata": {},
   "outputs": [],
   "source": [
    "question = \"Explain the impact of climate change on agriculture.\"\n",
    "response = RagPipeline(question)"
   ]
  },
  {
   "cell_type": "code",
   "execution_count": 29,
   "metadata": {},
   "outputs": [
    {
     "data": {
      "text/plain": [
       "{'Question': 'Explain the impact of climate change on agriculture.',\n",
       " 'Web Search': [{'snippet': 'The effects of climate change on agriculture will depend on the rate and severity of the change, as well as the degree to which farmers and ranchers can adapt. 7 U.S. agriculture already has many practices in place to adapt to a changing climate, including crop rotation and integrated pest management. A good deal of research is also under way ...',\n",
       "   'title': 'Climate Change Impacts on Agriculture and Food Supply',\n",
       "   'link': 'https://www.epa.gov/climateimpacts/climate-change-impacts-agriculture-and-food-supply'},\n",
       "  {'snippet': 'There are numerous effects of climate change on agriculture, many of which are making it harder for agricultural activities to provide global food security.Rising temperatures and changing weather patterns often result in lower crop yields due to water scarcity caused by drought, heat waves and flooding. [5] These effects of climate change can also increase the risk of several regions ...',\n",
       "   'title': 'Effects of climate change on agriculture - Wikipedia',\n",
       "   'link': 'https://en.wikipedia.org/wiki/Effects_of_climate_change_on_agriculture'},\n",
       "  {'snippet': 'The effects of climate change, now accelerating all over the world, include unpredictable changes in rainfall patterns bringing drought, heatwaves, and flooding.As extreme weather becomes more frequent, and destructive events hit farmers harder, the impact on farming will be more and more severe.',\n",
       "   'title': 'How will climate change affect agriculture? - Oxfam America',\n",
       "   'link': 'https://www.oxfamamerica.org/explore/stories/how-will-climate-change-affect-agriculture/'},\n",
       "  {'snippet': 'The effects of climate change on agriculture will depend on the rate and severity of the change, as well as the degree to which farmers and ranchers can adapt. 7 U.S. agriculture already has many practices in place to adapt to a changing climate, including crop rotation and integrated pest management. A good deal of research is also under way ...',\n",
       "   'title': 'Impact of Climate Change on Crops - National Strategic Hub',\n",
       "   'link': 'https://nationalstrathub.cogta.gov.za/resources/articles/impact-of-climate-change-on-crops/'}],\n",
       " 'Ranked Docs': [('The effects of climate change, now accelerating all over the world, include unpredictable changes in rainfall patterns bringing drought, heatwaves, and flooding.As extreme weather becomes more frequent, and destructive events hit farmers harder, the impact on farming will be more and more severe.',\n",
       "   0.9367046356201172),\n",
       "  ('There are numerous effects of climate change on agriculture, many of which are making it harder for agricultural activities to provide global food security.Rising temperatures and changing weather patterns often result in lower crop yields due to water scarcity caused by drought, heat waves and flooding. [5] These effects of climate change can also increase the risk of several regions ...',\n",
       "   0.9293283820152283),\n",
       "  ('The effects of climate change on agriculture will depend on the rate and severity of the change, as well as the degree to which farmers and ranchers can adapt. 7 U.S. agriculture already has many practices in place to adapt to a changing climate, including crop rotation and integrated pest management. A good deal of research is also under way ...',\n",
       "   0.9151419401168823),\n",
       "  ('The effects of climate change on agriculture will depend on the rate and severity of the change, as well as the degree to which farmers and ranchers can adapt. 7 U.S. agriculture already has many practices in place to adapt to a changing climate, including crop rotation and integrated pest management. A good deal of research is also under way ...',\n",
       "   0.9151419401168823)],\n",
       " 'Prompt': PromptTemplate(input_variables=['context', 'question'], input_types={}, partial_variables={}, template='\\n        Instructions : You are an intelligent bot. Give Answer from the context.\\n        Question : {question}\\n        Context : {context}\\n        '),\n",
       " 'Answer': 'Climate change significantly impacts agriculture by causing unpredictable changes in rainfall patterns, leading to droughts, heatwaves, and flooding. As extreme weather events become more frequent and severe, farmers face greater challenges, which can result in lower crop yields. The rising temperatures and altered weather patterns contribute to water scarcity, further complicating agricultural activities and threatening global food security. Overall, the effects of climate change make it increasingly difficult for agriculture to sustain food production.'}"
      ]
     },
     "execution_count": 29,
     "metadata": {},
     "output_type": "execute_result"
    }
   ],
   "source": [
    "response"
   ]
  },
  {
   "cell_type": "code",
   "execution_count": null,
   "metadata": {},
   "outputs": [],
   "source": [
    "# questions = [\n",
    "#     \"Why did China enact the one-child policy?\",\n",
    "#     \"What are the benefits of renewable energy?\",\n",
    "#     \"How does quantum computing work?\",\n",
    "#     \"What caused the 2008 financial crisis?\",\n",
    "#     \"Explain the impact of climate change on agriculture.\"\n",
    "# ]"
   ]
  },
  {
   "cell_type": "markdown",
   "metadata": {},
   "source": [
    "#### Rough Code"
   ]
  },
  {
   "cell_type": "code",
   "execution_count": 35,
   "metadata": {},
   "outputs": [],
   "source": [
    "question = \"Why did China enact the one-child policy?\"\n",
    "web_docs = search_web(question)\n",
    "formatted_docs = format_document(web_docs)\n",
    "\n",
    "rank_docs_ = rank_documents(question, formatted_docs)\n",
    "context = \"\\n\".join([doc for doc, score in rank_docs_[:2]])\n"
   ]
  },
  {
   "cell_type": "code",
   "execution_count": 36,
   "metadata": {},
   "outputs": [
    {
     "data": {
      "text/plain": [
       "[(\"Origins of the One Child Policy. China's One Child Policy was one of the most controversial social experiments in modern history.Implemented to control population growth, it had far-reaching effects on Chinese society.. The policy was introduced in 1979 by the Chinese government to curb the rapid population growth.; It was part of a broader family planning policy that began in the early 1970s.\",\n",
       "  0.9532032608985901),\n",
       " (\"one-child policy, official program initiated in the late 1970s and early '80s by the central government of China, the purpose of which was to limit the great majority of family units in the country to one child each. The rationale for implementing the policy was to reduce the growth rate of China's enormous population.It was announced in late 2015 that the program was to end in early 2016.\",\n",
       "  0.9510537385940552),\n",
       " ('A propaganda painting in Guangdong promotes the idea of a nuclear family with a single child. The text reads \"Planned child birth is everyone\\'s responsibility.\" Birth rate in China, 1950-2015. The one-child policy (Chinese: 一孩政策; pinyin: yī hái zhèngcè) was a population planning initiative in China implemented between 1979 and 2015 to curb the country\\'s population growth by ...',\n",
       "  0.9434847831726074),\n",
       " (\"Susan Greenhalgh has studied this extensively; her book Just One Child: Science and Policy in Deng's China answers this exact question. To summarize: Restricting births is inherently a Malthusian policy aimed at increasing per capita welfare by reducing the distribution of resources to a growing population. Malthusianism was firmly opposed by ...\",\n",
       "  0.8809192776679993)]"
      ]
     },
     "execution_count": 36,
     "metadata": {},
     "output_type": "execute_result"
    }
   ],
   "source": [
    "rank_docs_"
   ]
  },
  {
   "cell_type": "code",
   "execution_count": 38,
   "metadata": {},
   "outputs": [
    {
     "data": {
      "text/plain": [
       "\"Origins of the One Child Policy. China's One Child Policy was one of the most controversial social experiments in modern history.Implemented to control population growth, it had far-reaching effects on Chinese society.. The policy was introduced in 1979 by the Chinese government to curb the rapid population growth.; It was part of a broader family planning policy that began in the early 1970s.\\none-child policy, official program initiated in the late 1970s and early '80s by the central government of China, the purpose of which was to limit the great majority of family units in the country to one child each. The rationale for implementing the policy was to reduce the growth rate of China's enormous population.It was announced in late 2015 that the program was to end in early 2016.\""
      ]
     },
     "execution_count": 38,
     "metadata": {},
     "output_type": "execute_result"
    }
   ],
   "source": [
    "context"
   ]
  },
  {
   "cell_type": "code",
   "execution_count": 13,
   "metadata": {},
   "outputs": [
    {
     "name": "stderr",
     "output_type": "stream",
     "text": [
      "C:\\Users\\Adeel Afzal\\AppData\\Local\\Temp\\ipykernel_8196\\4054751686.py:2: LangChainDeprecationWarning: The class `ChatOpenAI` was deprecated in LangChain 0.0.10 and will be removed in 1.0. An updated version of the class exists in the :class:`~langchain-openai package and should be used instead. To use it run `pip install -U :class:`~langchain-openai` and import as `from :class:`~langchain_openai import ChatOpenAI``.\n",
      "  llm = ChatOpenAI(model_name=\"gpt-4o-mini\", openai_api_key=OPENAI_API_KEY, temperature=0.3, max_tokens=1500, timeout=30, streaming=True)\n"
     ]
    }
   ],
   "source": []
  },
  {
   "cell_type": "code",
   "execution_count": 15,
   "metadata": {},
   "outputs": [
    {
     "name": "stdout",
     "output_type": "stream",
     "text": [
      "What are the benefits of renewable energy?\n",
      "Key benefits of renewable energy for people and the planet. A ll energy sources have an impact on our environment, and r e newable energy is no exception.While each renewable energy source has its own sp e c ificities and trade-offs, the advantages over the devastating impacts of fossil fuels are undeniable: lower use of water and land, less air and water pollution, reduced wildlife and ...\n",
      "Some of the benefits of renewable energy hit headlines, others are well known. But some benefits aren't even primary benefits at all, and are happy by-products of other pursuits. So for this week's Top 10, we run through some of the benefits that renewable energy brings businesses, individuals, governments and countries, to name a few. 10.\n"
     ]
    }
   ],
   "source": [
    "print (question)\n",
    "print (context)"
   ]
  },
  {
   "cell_type": "code",
   "execution_count": 29,
   "metadata": {},
   "outputs": [],
   "source": [
    "\n",
    "\n",
    "prompt = PromptTemplate.from_template(\"\"\"\n",
    "\n",
    "Instructions : You are an intelligent bot. Give Answer from the context.\n",
    "Question : {question}\n",
    "Context : {context}\n",
    "\"\"\")"
   ]
  },
  {
   "cell_type": "code",
   "execution_count": 30,
   "metadata": {},
   "outputs": [],
   "source": [
    "chain = prompt | llm\n"
   ]
  },
  {
   "cell_type": "code",
   "execution_count": 31,
   "metadata": {},
   "outputs": [],
   "source": [
    "response = chain.invoke({\n",
    "    \"question\" : question,\n",
    "    \"context\" : context\n",
    "})"
   ]
  },
  {
   "cell_type": "code",
   "execution_count": 33,
   "metadata": {},
   "outputs": [
    {
     "data": {
      "text/plain": [
       "\"Key benefits of renewable energy for people and the planet. A ll energy sources have an impact on our environment, and r e newable energy is no exception.While each renewable energy source has its own sp e c ificities and trade-offs, the advantages over the devastating impacts of fossil fuels are undeniable: lower use of water and land, less air and water pollution, reduced wildlife and ...\\nSome of the benefits of renewable energy hit headlines, others are well known. But some benefits aren't even primary benefits at all, and are happy by-products of other pursuits. So for this week's Top 10, we run through some of the benefits that renewable energy brings businesses, individuals, governments and countries, to name a few. 10.\""
      ]
     },
     "execution_count": 33,
     "metadata": {},
     "output_type": "execute_result"
    }
   ],
   "source": [
    "context"
   ]
  },
  {
   "cell_type": "code",
   "execution_count": 32,
   "metadata": {},
   "outputs": [
    {
     "data": {
      "text/plain": [
       "'The benefits of renewable energy include:\\n\\n1. Lower use of water and land compared to fossil fuels.\\n2. Reduced air and water pollution.\\n3. Decreased negative impacts on wildlife.\\n4. Positive economic effects for businesses and governments.\\n5. Contribution to energy independence for countries.\\n6. Creation of jobs in the renewable energy sector.\\n7. Enhanced public health due to cleaner air and water.\\n8. Long-term sustainability and reduced reliance on finite resources.\\n9. Potential for technological innovation and advancements.\\n10. Mitigation of climate change effects.'"
      ]
     },
     "execution_count": 32,
     "metadata": {},
     "output_type": "execute_result"
    }
   ],
   "source": [
    "response.content"
   ]
  },
  {
   "cell_type": "code",
   "execution_count": 80,
   "metadata": {},
   "outputs": [
    {
     "data": {
      "text/plain": [
       "\"Renewable energy (or green energy) ... This has several benefits: electricity can move heat and vehicles efficiently and is clean at the point of consumption. [1] [2] Variable renewable energy sources are those that have a fluctuating nature, such as wind power and solar power.\\nSome of the benefits of renewable energy hit headlines, others are well known. But some benefits aren't even primary benefits at all, and are happy by-products of other pursuits. So for this week's Top 10, we run through some of the benefits that renewable energy brings businesses, individuals, governments and countries, to name a few. 10.\""
      ]
     },
     "execution_count": 80,
     "metadata": {},
     "output_type": "execute_result"
    }
   ],
   "source": [
    "context"
   ]
  },
  {
   "cell_type": "code",
   "execution_count": 30,
   "metadata": {},
   "outputs": [],
   "source": [
    "questions = [\n",
    "    \"Why did China enact the one-child policy?\",\n",
    "    \"What are the benefits of renewable energy?\",\n",
    "    \"How does quantum computing work?\",\n",
    "    \"What caused the 2008 financial crisis?\",\n",
    "    \"Explain the impact of climate change on agriculture.\"\n",
    "]"
   ]
  }
 ],
 "metadata": {
  "kernelspec": {
   "display_name": ".venv",
   "language": "python",
   "name": "python3"
  },
  "language_info": {
   "codemirror_mode": {
    "name": "ipython",
    "version": 3
   },
   "file_extension": ".py",
   "mimetype": "text/x-python",
   "name": "python",
   "nbconvert_exporter": "python",
   "pygments_lexer": "ipython3",
   "version": "3.11.9"
  }
 },
 "nbformat": 4,
 "nbformat_minor": 2
}
